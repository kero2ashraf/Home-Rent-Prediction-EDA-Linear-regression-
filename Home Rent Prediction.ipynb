{
 "cells": [
  {
   "cell_type": "code",
   "execution_count": 144,
   "id": "2928da6a",
   "metadata": {
    "ExecuteTime": {
     "end_time": "2023-07-30T15:02:08.987816Z",
     "start_time": "2023-07-30T15:02:08.970692Z"
    }
   },
   "outputs": [],
   "source": [
    "import numpy as np \n",
    "import pandas as pd \n",
    "import matplotlib.pyplot as plt\n",
    "import seaborn as sns \n",
    "from sklearn.linear_model import LinearRegression\n",
    "from sklearn.metrics import mean_squared_error, mean_absolute_error\n",
    "from sklearn import preprocessing\n",
    "import warnings\n",
    "warnings.filterwarnings(\"ignore\")\n",
    "from sklearn.model_selection import train_test_split"
   ]
  },
  {
   "cell_type": "code",
   "execution_count": 145,
   "id": "5f9bb55d",
   "metadata": {
    "ExecuteTime": {
     "end_time": "2023-07-30T15:02:09.835757Z",
     "start_time": "2023-07-30T15:02:09.770095Z"
    }
   },
   "outputs": [
    {
     "data": {
      "text/html": [
       "<div>\n",
       "<style scoped>\n",
       "    .dataframe tbody tr th:only-of-type {\n",
       "        vertical-align: middle;\n",
       "    }\n",
       "\n",
       "    .dataframe tbody tr th {\n",
       "        vertical-align: top;\n",
       "    }\n",
       "\n",
       "    .dataframe thead th {\n",
       "        text-align: right;\n",
       "    }\n",
       "</style>\n",
       "<table border=\"1\" class=\"dataframe\">\n",
       "  <thead>\n",
       "    <tr style=\"text-align: right;\">\n",
       "      <th></th>\n",
       "      <th>area</th>\n",
       "      <th>rent</th>\n",
       "    </tr>\n",
       "  </thead>\n",
       "  <tbody>\n",
       "    <tr>\n",
       "      <th>0</th>\n",
       "      <td>2000.0</td>\n",
       "      <td>31500.0</td>\n",
       "    </tr>\n",
       "    <tr>\n",
       "      <th>1</th>\n",
       "      <td>2100.0</td>\n",
       "      <td>35000.0</td>\n",
       "    </tr>\n",
       "    <tr>\n",
       "      <th>2</th>\n",
       "      <td>2500.0</td>\n",
       "      <td>41050.0</td>\n",
       "    </tr>\n",
       "    <tr>\n",
       "      <th>3</th>\n",
       "      <td>2250.0</td>\n",
       "      <td>36100.0</td>\n",
       "    </tr>\n",
       "    <tr>\n",
       "      <th>4</th>\n",
       "      <td>3000.0</td>\n",
       "      <td>52100.0</td>\n",
       "    </tr>\n",
       "  </tbody>\n",
       "</table>\n",
       "</div>"
      ],
      "text/plain": [
       "     area     rent\n",
       "0  2000.0  31500.0\n",
       "1  2100.0  35000.0\n",
       "2  2500.0  41050.0\n",
       "3  2250.0  36100.0\n",
       "4  3000.0  52100.0"
      ]
     },
     "execution_count": 145,
     "metadata": {},
     "output_type": "execute_result"
    }
   ],
   "source": [
    "data = pd.read_excel(r\"Rent.xlsx\")\n",
    "data.head()"
   ]
  },
  {
   "cell_type": "markdown",
   "id": "9e37f6f9",
   "metadata": {},
   "source": [
    "# EDA"
   ]
  },
  {
   "cell_type": "code",
   "execution_count": 146,
   "id": "e8f6ce72",
   "metadata": {
    "ExecuteTime": {
     "end_time": "2023-07-30T15:02:11.272246Z",
     "start_time": "2023-07-30T15:02:11.258282Z"
    }
   },
   "outputs": [
    {
     "data": {
      "text/plain": [
       "area    0\n",
       "rent    0\n",
       "dtype: int64"
      ]
     },
     "execution_count": 146,
     "metadata": {},
     "output_type": "execute_result"
    }
   ],
   "source": [
    "#Cheak for missing values\n",
    "data.isnull().sum()"
   ]
  },
  {
   "cell_type": "code",
   "execution_count": 147,
   "id": "f852878e",
   "metadata": {
    "ExecuteTime": {
     "end_time": "2023-07-30T15:02:11.851064Z",
     "start_time": "2023-07-30T15:02:11.800153Z"
    }
   },
   "outputs": [
    {
     "data": {
      "text/html": [
       "<div>\n",
       "<style scoped>\n",
       "    .dataframe tbody tr th:only-of-type {\n",
       "        vertical-align: middle;\n",
       "    }\n",
       "\n",
       "    .dataframe tbody tr th {\n",
       "        vertical-align: top;\n",
       "    }\n",
       "\n",
       "    .dataframe thead th {\n",
       "        text-align: right;\n",
       "    }\n",
       "</style>\n",
       "<table border=\"1\" class=\"dataframe\">\n",
       "  <thead>\n",
       "    <tr style=\"text-align: right;\">\n",
       "      <th></th>\n",
       "      <th>area</th>\n",
       "      <th>rent</th>\n",
       "    </tr>\n",
       "  </thead>\n",
       "  <tbody>\n",
       "    <tr>\n",
       "      <th>0</th>\n",
       "      <td>2000.0</td>\n",
       "      <td>31500.0</td>\n",
       "    </tr>\n",
       "    <tr>\n",
       "      <th>1</th>\n",
       "      <td>2100.0</td>\n",
       "      <td>35000.0</td>\n",
       "    </tr>\n",
       "    <tr>\n",
       "      <th>2</th>\n",
       "      <td>2500.0</td>\n",
       "      <td>41050.0</td>\n",
       "    </tr>\n",
       "    <tr>\n",
       "      <th>3</th>\n",
       "      <td>2250.0</td>\n",
       "      <td>36100.0</td>\n",
       "    </tr>\n",
       "    <tr>\n",
       "      <th>4</th>\n",
       "      <td>3000.0</td>\n",
       "      <td>52100.0</td>\n",
       "    </tr>\n",
       "    <tr>\n",
       "      <th>5</th>\n",
       "      <td>1900.0</td>\n",
       "      <td>32500.0</td>\n",
       "    </tr>\n",
       "    <tr>\n",
       "      <th>6</th>\n",
       "      <td>1500.0</td>\n",
       "      <td>20000.0</td>\n",
       "    </tr>\n",
       "    <tr>\n",
       "      <th>7</th>\n",
       "      <td>1850.0</td>\n",
       "      <td>24500.0</td>\n",
       "    </tr>\n",
       "    <tr>\n",
       "      <th>8</th>\n",
       "      <td>2700.0</td>\n",
       "      <td>48000.0</td>\n",
       "    </tr>\n",
       "    <tr>\n",
       "      <th>9</th>\n",
       "      <td>2100.0</td>\n",
       "      <td>31000.0</td>\n",
       "    </tr>\n",
       "    <tr>\n",
       "      <th>10</th>\n",
       "      <td>2150.0</td>\n",
       "      <td>34500.0</td>\n",
       "    </tr>\n",
       "    <tr>\n",
       "      <th>11</th>\n",
       "      <td>2100.0</td>\n",
       "      <td>32000.0</td>\n",
       "    </tr>\n",
       "    <tr>\n",
       "      <th>12</th>\n",
       "      <td>2100.0</td>\n",
       "      <td>34500.0</td>\n",
       "    </tr>\n",
       "    <tr>\n",
       "      <th>13</th>\n",
       "      <td>2510.0</td>\n",
       "      <td>40050.0</td>\n",
       "    </tr>\n",
       "    <tr>\n",
       "      <th>14</th>\n",
       "      <td>2250.0</td>\n",
       "      <td>34100.0</td>\n",
       "    </tr>\n",
       "    <tr>\n",
       "      <th>15</th>\n",
       "      <td>3100.0</td>\n",
       "      <td>51500.0</td>\n",
       "    </tr>\n",
       "    <tr>\n",
       "      <th>16</th>\n",
       "      <td>1800.0</td>\n",
       "      <td>30500.0</td>\n",
       "    </tr>\n",
       "    <tr>\n",
       "      <th>17</th>\n",
       "      <td>1550.0</td>\n",
       "      <td>21000.0</td>\n",
       "    </tr>\n",
       "    <tr>\n",
       "      <th>18</th>\n",
       "      <td>1800.0</td>\n",
       "      <td>25000.0</td>\n",
       "    </tr>\n",
       "    <tr>\n",
       "      <th>19</th>\n",
       "      <td>2700.0</td>\n",
       "      <td>47000.0</td>\n",
       "    </tr>\n",
       "    <tr>\n",
       "      <th>20</th>\n",
       "      <td>2110.0</td>\n",
       "      <td>31500.0</td>\n",
       "    </tr>\n",
       "    <tr>\n",
       "      <th>21</th>\n",
       "      <td>2100.0</td>\n",
       "      <td>33500.0</td>\n",
       "    </tr>\n",
       "    <tr>\n",
       "      <th>22</th>\n",
       "      <td>3500.0</td>\n",
       "      <td>70000.0</td>\n",
       "    </tr>\n",
       "    <tr>\n",
       "      <th>23</th>\n",
       "      <td>1200.0</td>\n",
       "      <td>20000.0</td>\n",
       "    </tr>\n",
       "    <tr>\n",
       "      <th>24</th>\n",
       "      <td>2800.0</td>\n",
       "      <td>50000.0</td>\n",
       "    </tr>\n",
       "    <tr>\n",
       "      <th>25</th>\n",
       "      <td>3100.0</td>\n",
       "      <td>53000.0</td>\n",
       "    </tr>\n",
       "    <tr>\n",
       "      <th>26</th>\n",
       "      <td>2750.0</td>\n",
       "      <td>48000.0</td>\n",
       "    </tr>\n",
       "    <tr>\n",
       "      <th>28</th>\n",
       "      <td>2200.0</td>\n",
       "      <td>31460.0</td>\n",
       "    </tr>\n",
       "    <tr>\n",
       "      <th>29</th>\n",
       "      <td>3100.0</td>\n",
       "      <td>51400.0</td>\n",
       "    </tr>\n",
       "    <tr>\n",
       "      <th>31</th>\n",
       "      <td>2100.0</td>\n",
       "      <td>35010.0</td>\n",
       "    </tr>\n",
       "    <tr>\n",
       "      <th>32</th>\n",
       "      <td>2500.0</td>\n",
       "      <td>41100.0</td>\n",
       "    </tr>\n",
       "    <tr>\n",
       "      <th>33</th>\n",
       "      <td>2250.0</td>\n",
       "      <td>35100.0</td>\n",
       "    </tr>\n",
       "    <tr>\n",
       "      <th>34</th>\n",
       "      <td>3000.0</td>\n",
       "      <td>52200.0</td>\n",
       "    </tr>\n",
       "    <tr>\n",
       "      <th>35</th>\n",
       "      <td>1900.0</td>\n",
       "      <td>32300.0</td>\n",
       "    </tr>\n",
       "    <tr>\n",
       "      <th>36</th>\n",
       "      <td>1500.0</td>\n",
       "      <td>20200.0</td>\n",
       "    </tr>\n",
       "    <tr>\n",
       "      <th>37</th>\n",
       "      <td>1850.0</td>\n",
       "      <td>24000.0</td>\n",
       "    </tr>\n",
       "    <tr>\n",
       "      <th>38</th>\n",
       "      <td>2700.0</td>\n",
       "      <td>47500.0</td>\n",
       "    </tr>\n",
       "    <tr>\n",
       "      <th>39</th>\n",
       "      <td>2100.0</td>\n",
       "      <td>31500.0</td>\n",
       "    </tr>\n",
       "    <tr>\n",
       "      <th>40</th>\n",
       "      <td>2150.0</td>\n",
       "      <td>34400.0</td>\n",
       "    </tr>\n",
       "    <tr>\n",
       "      <th>41</th>\n",
       "      <td>2100.0</td>\n",
       "      <td>32020.0</td>\n",
       "    </tr>\n",
       "    <tr>\n",
       "      <th>42</th>\n",
       "      <td>2100.0</td>\n",
       "      <td>34700.0</td>\n",
       "    </tr>\n",
       "    <tr>\n",
       "      <th>43</th>\n",
       "      <td>2510.0</td>\n",
       "      <td>40000.0</td>\n",
       "    </tr>\n",
       "    <tr>\n",
       "      <th>44</th>\n",
       "      <td>2250.0</td>\n",
       "      <td>35000.0</td>\n",
       "    </tr>\n",
       "    <tr>\n",
       "      <th>45</th>\n",
       "      <td>3100.0</td>\n",
       "      <td>51000.0</td>\n",
       "    </tr>\n",
       "    <tr>\n",
       "      <th>46</th>\n",
       "      <td>1800.0</td>\n",
       "      <td>30000.0</td>\n",
       "    </tr>\n",
       "    <tr>\n",
       "      <th>47</th>\n",
       "      <td>1550.0</td>\n",
       "      <td>21500.0</td>\n",
       "    </tr>\n",
       "    <tr>\n",
       "      <th>48</th>\n",
       "      <td>1800.0</td>\n",
       "      <td>25500.0</td>\n",
       "    </tr>\n",
       "    <tr>\n",
       "      <th>50</th>\n",
       "      <td>2110.0</td>\n",
       "      <td>31000.0</td>\n",
       "    </tr>\n",
       "    <tr>\n",
       "      <th>51</th>\n",
       "      <td>2100.0</td>\n",
       "      <td>33000.0</td>\n",
       "    </tr>\n",
       "    <tr>\n",
       "      <th>52</th>\n",
       "      <td>3500.0</td>\n",
       "      <td>70500.0</td>\n",
       "    </tr>\n",
       "    <tr>\n",
       "      <th>53</th>\n",
       "      <td>1200.0</td>\n",
       "      <td>20100.0</td>\n",
       "    </tr>\n",
       "    <tr>\n",
       "      <th>54</th>\n",
       "      <td>2800.0</td>\n",
       "      <td>51000.0</td>\n",
       "    </tr>\n",
       "    <tr>\n",
       "      <th>55</th>\n",
       "      <td>3100.0</td>\n",
       "      <td>54000.0</td>\n",
       "    </tr>\n",
       "    <tr>\n",
       "      <th>56</th>\n",
       "      <td>2750.0</td>\n",
       "      <td>48500.0</td>\n",
       "    </tr>\n",
       "    <tr>\n",
       "      <th>57</th>\n",
       "      <td>1800.0</td>\n",
       "      <td>25100.0</td>\n",
       "    </tr>\n",
       "    <tr>\n",
       "      <th>58</th>\n",
       "      <td>2200.0</td>\n",
       "      <td>31560.0</td>\n",
       "    </tr>\n",
       "    <tr>\n",
       "      <th>59</th>\n",
       "      <td>3100.0</td>\n",
       "      <td>51600.0</td>\n",
       "    </tr>\n",
       "  </tbody>\n",
       "</table>\n",
       "</div>"
      ],
      "text/plain": [
       "      area     rent\n",
       "0   2000.0  31500.0\n",
       "1   2100.0  35000.0\n",
       "2   2500.0  41050.0\n",
       "3   2250.0  36100.0\n",
       "4   3000.0  52100.0\n",
       "5   1900.0  32500.0\n",
       "6   1500.0  20000.0\n",
       "7   1850.0  24500.0\n",
       "8   2700.0  48000.0\n",
       "9   2100.0  31000.0\n",
       "10  2150.0  34500.0\n",
       "11  2100.0  32000.0\n",
       "12  2100.0  34500.0\n",
       "13  2510.0  40050.0\n",
       "14  2250.0  34100.0\n",
       "15  3100.0  51500.0\n",
       "16  1800.0  30500.0\n",
       "17  1550.0  21000.0\n",
       "18  1800.0  25000.0\n",
       "19  2700.0  47000.0\n",
       "20  2110.0  31500.0\n",
       "21  2100.0  33500.0\n",
       "22  3500.0  70000.0\n",
       "23  1200.0  20000.0\n",
       "24  2800.0  50000.0\n",
       "25  3100.0  53000.0\n",
       "26  2750.0  48000.0\n",
       "28  2200.0  31460.0\n",
       "29  3100.0  51400.0\n",
       "31  2100.0  35010.0\n",
       "32  2500.0  41100.0\n",
       "33  2250.0  35100.0\n",
       "34  3000.0  52200.0\n",
       "35  1900.0  32300.0\n",
       "36  1500.0  20200.0\n",
       "37  1850.0  24000.0\n",
       "38  2700.0  47500.0\n",
       "39  2100.0  31500.0\n",
       "40  2150.0  34400.0\n",
       "41  2100.0  32020.0\n",
       "42  2100.0  34700.0\n",
       "43  2510.0  40000.0\n",
       "44  2250.0  35000.0\n",
       "45  3100.0  51000.0\n",
       "46  1800.0  30000.0\n",
       "47  1550.0  21500.0\n",
       "48  1800.0  25500.0\n",
       "50  2110.0  31000.0\n",
       "51  2100.0  33000.0\n",
       "52  3500.0  70500.0\n",
       "53  1200.0  20100.0\n",
       "54  2800.0  51000.0\n",
       "55  3100.0  54000.0\n",
       "56  2750.0  48500.0\n",
       "57  1800.0  25100.0\n",
       "58  2200.0  31560.0\n",
       "59  3100.0  51600.0"
      ]
     },
     "execution_count": 147,
     "metadata": {},
     "output_type": "execute_result"
    }
   ],
   "source": [
    "#check for duplicates\n",
    "data.duplicated().sum()\n",
    "data.drop_duplicates()"
   ]
  },
  {
   "cell_type": "code",
   "execution_count": 148,
   "id": "2b4b8088",
   "metadata": {
    "ExecuteTime": {
     "end_time": "2023-07-30T15:02:12.477876Z",
     "start_time": "2023-07-30T15:02:12.440458Z"
    },
    "scrolled": true
   },
   "outputs": [
    {
     "data": {
      "text/html": [
       "<div>\n",
       "<style scoped>\n",
       "    .dataframe tbody tr th:only-of-type {\n",
       "        vertical-align: middle;\n",
       "    }\n",
       "\n",
       "    .dataframe tbody tr th {\n",
       "        vertical-align: top;\n",
       "    }\n",
       "\n",
       "    .dataframe thead th {\n",
       "        text-align: right;\n",
       "    }\n",
       "</style>\n",
       "<table border=\"1\" class=\"dataframe\">\n",
       "  <thead>\n",
       "    <tr style=\"text-align: right;\">\n",
       "      <th></th>\n",
       "      <th>area</th>\n",
       "      <th>rent</th>\n",
       "    </tr>\n",
       "  </thead>\n",
       "  <tbody>\n",
       "    <tr>\n",
       "      <th>count</th>\n",
       "      <td>60.000000</td>\n",
       "      <td>60.000000</td>\n",
       "    </tr>\n",
       "    <tr>\n",
       "      <th>mean</th>\n",
       "      <td>2289.000000</td>\n",
       "      <td>37269.166667</td>\n",
       "    </tr>\n",
       "    <tr>\n",
       "      <th>std</th>\n",
       "      <td>538.880509</td>\n",
       "      <td>11770.736234</td>\n",
       "    </tr>\n",
       "    <tr>\n",
       "      <th>min</th>\n",
       "      <td>1200.000000</td>\n",
       "      <td>20000.000000</td>\n",
       "    </tr>\n",
       "    <tr>\n",
       "      <th>25%</th>\n",
       "      <td>1900.000000</td>\n",
       "      <td>31000.000000</td>\n",
       "    </tr>\n",
       "    <tr>\n",
       "      <th>50%</th>\n",
       "      <td>2130.000000</td>\n",
       "      <td>34450.000000</td>\n",
       "    </tr>\n",
       "    <tr>\n",
       "      <th>75%</th>\n",
       "      <td>2700.000000</td>\n",
       "      <td>47625.000000</td>\n",
       "    </tr>\n",
       "    <tr>\n",
       "      <th>max</th>\n",
       "      <td>3500.000000</td>\n",
       "      <td>70500.000000</td>\n",
       "    </tr>\n",
       "  </tbody>\n",
       "</table>\n",
       "</div>"
      ],
      "text/plain": [
       "              area          rent\n",
       "count    60.000000     60.000000\n",
       "mean   2289.000000  37269.166667\n",
       "std     538.880509  11770.736234\n",
       "min    1200.000000  20000.000000\n",
       "25%    1900.000000  31000.000000\n",
       "50%    2130.000000  34450.000000\n",
       "75%    2700.000000  47625.000000\n",
       "max    3500.000000  70500.000000"
      ]
     },
     "execution_count": 148,
     "metadata": {},
     "output_type": "execute_result"
    }
   ],
   "source": [
    "data.describe()"
   ]
  },
  {
   "cell_type": "code",
   "execution_count": 149,
   "id": "13b6ba40",
   "metadata": {
    "ExecuteTime": {
     "end_time": "2023-07-30T15:02:14.140177Z",
     "start_time": "2023-07-30T15:02:12.876099Z"
    },
    "scrolled": true
   },
   "outputs": [
    {
     "data": {
      "image/png": "[encoded data removed]",
      "text/plain": [
       "<Figure size 1152x432 with 1 Axes>"
      ]
     },
     "metadata": {
      "needs_background": "light"
     },
     "output_type": "display_data"
    }
   ],
   "source": [
    "plt.figure(figsize=(16,6))\n",
    "plt.title(\"barplot showing rent ranges and area\")\n",
    "plt.xlabel(\"Area\")\n",
    "plt.ylabel(\"Rent\")\n",
    "sns.barplot(x=\"area\",y=\"rent\",data=data)\n",
    "plt.show()"
   ]
  },
  {
   "cell_type": "code",
   "execution_count": 150,
   "id": "d749bde3",
   "metadata": {
    "ExecuteTime": {
     "end_time": "2023-07-30T15:02:14.546857Z",
     "start_time": "2023-07-30T15:02:14.144167Z"
    }
   },
   "outputs": [
    {
     "data": {
      "image/png": "[encoded data removed]",
      "text/plain": [
       "<Figure size 864x432 with 1 Axes>"
      ]
     },
     "metadata": {
      "needs_background": "light"
     },
     "output_type": "display_data"
    }
   ],
   "source": [
    "plt.figure(figsize=(12,6))\n",
    "plt.title(\"Scatter plot showing rent and area\")\n",
    "plt.xlabel(\"Area\")\n",
    "plt.ylabel(\"Rent\")\n",
    "sns.scatterplot(x=\"area\",y=\"rent\",data=data)\n",
    "plt.show()"
   ]
  },
  {
   "cell_type": "code",
   "execution_count": 151,
   "id": "41bf19bf",
   "metadata": {
    "ExecuteTime": {
     "end_time": "2023-07-30T15:02:15.805518Z",
     "start_time": "2023-07-30T15:02:14.551776Z"
    }
   },
   "outputs": [
    {
     "data": {
      "image/png": "[encoded data removed]",
      "text/plain": [
       "<Figure size 864x432 with 1 Axes>"
      ]
     },
     "metadata": {
      "needs_background": "light"
     },
     "output_type": "display_data"
    }
   ],
   "source": [
    "plt.figure(figsize=(12,6))\n",
    "plt.title(\"Scatter plot showing rent and area\")\n",
    "plt.xlabel(\"Area\")\n",
    "plt.ylabel(\"Rent\")\n",
    "sns.regplot(x=\"area\",y=\"rent\",data=data)\n",
    "plt.show()"
   ]
  },
  {
   "cell_type": "markdown",
   "id": "e4e3ec28",
   "metadata": {},
   "source": [
    "# Correlation"
   ]
  },
  {
   "cell_type": "code",
   "execution_count": 152,
   "id": "d7f1b829",
   "metadata": {
    "ExecuteTime": {
     "end_time": "2023-07-30T15:02:15.845689Z",
     "start_time": "2023-07-30T15:02:15.816458Z"
    }
   },
   "outputs": [],
   "source": [
    "corr_matrix = data.corr()"
   ]
  },
  {
   "cell_type": "code",
   "execution_count": 153,
   "id": "791831df",
   "metadata": {
    "ExecuteTime": {
     "end_time": "2023-07-30T15:02:16.583607Z",
     "start_time": "2023-07-30T15:02:15.866059Z"
    }
   },
   "outputs": [
    {
     "data": {
      "image/png": "[encoded data removed]",
      "text/plain": [
       "<Figure size 432x288 with 2 Axes>"
      ]
     },
     "metadata": {
      "needs_background": "light"
     },
     "output_type": "display_data"
    }
   ],
   "source": [
    "plt.title(\"heatplot showing correlation\")\n",
    "sns.heatmap(corr_matrix,annot=True)\n",
    "plt.show()"
   ]
  },
  {
   "cell_type": "markdown",
   "id": "00035542",
   "metadata": {},
   "source": [
    "# Model building"
   ]
  },
  {
   "cell_type": "code",
   "execution_count": 154,
   "id": "f33c954a",
   "metadata": {
    "ExecuteTime": {
     "end_time": "2023-07-30T15:02:17.622133Z",
     "start_time": "2023-07-30T15:02:17.603387Z"
    }
   },
   "outputs": [],
   "source": [
    "model = LinearRegression()"
   ]
  },
  {
   "cell_type": "code",
   "execution_count": 155,
   "id": "ac23072e",
   "metadata": {
    "ExecuteTime": {
     "end_time": "2023-07-30T15:02:18.204779Z",
     "start_time": "2023-07-30T15:02:18.184861Z"
    }
   },
   "outputs": [],
   "source": [
    "x = data[[\"area\"]]\n",
    "y = data[\"rent\"]\n",
    "x_train,x_test,y_train,y_test = train_test_split(x,y,test_size=0.3)"
   ]
  },
  {
   "cell_type": "code",
   "execution_count": 156,
   "id": "67d7fb13",
   "metadata": {
    "ExecuteTime": {
     "end_time": "2023-07-30T15:02:18.862069Z",
     "start_time": "2023-07-30T15:02:18.845808Z"
    }
   },
   "outputs": [
    {
     "name": "stdout",
     "output_type": "stream",
     "text": [
      "Slope of our model is : [21.7394329]\n",
      "Intercept of our model is : -12410.640247775584\n"
     ]
    }
   ],
   "source": [
    "model.fit(x_train,y_train)\n",
    "print(f'Slope of our model is : {model.coef_}')\n",
    "print(f'Intercept of our model is : {model.intercept_}')"
   ]
  },
  {
   "cell_type": "code",
   "execution_count": 157,
   "id": "6b60269b",
   "metadata": {
    "ExecuteTime": {
     "end_time": "2023-07-30T15:02:19.441645Z",
     "start_time": "2023-07-30T15:02:19.426684Z"
    }
   },
   "outputs": [
    {
     "data": {
      "text/plain": [
       "array([52807.65844206])"
      ]
     },
     "execution_count": 157,
     "metadata": {},
     "output_type": "execute_result"
    }
   ],
   "source": [
    "#if we check our model for an area\n",
    "pred = model.predict([[3000]])\n",
    "pred"
   ]
  },
  {
   "cell_type": "code",
   "execution_count": 158,
   "id": "13d21c5c",
   "metadata": {
    "ExecuteTime": {
     "end_time": "2023-07-30T15:02:20.040709Z",
     "start_time": "2023-07-30T15:02:20.019677Z"
    }
   },
   "outputs": [
    {
     "data": {
      "text/plain": [
       "array([41937.94199375, 33242.16883511, 26720.33896613, 54981.60173172,\n",
       "       33242.16883511, 33242.16883511, 21285.48074197, 33242.16883511,\n",
       "       31068.22554545, 13676.67922816, 33242.16883511, 48459.77186274,\n",
       "       52807.65844206, 47372.80021791, 42155.33632272, 33242.16883511,\n",
       "       27807.31061096, 34329.14047994])"
      ]
     },
     "execution_count": 158,
     "metadata": {},
     "output_type": "execute_result"
    }
   ],
   "source": [
    "predictions = model.predict(x_test)\n",
    "predictions"
   ]
  },
  {
   "cell_type": "code",
   "execution_count": 159,
   "id": "6aded026",
   "metadata": {
    "ExecuteTime": {
     "end_time": "2023-07-30T15:02:20.556107Z",
     "start_time": "2023-07-30T15:02:20.530251Z"
    }
   },
   "outputs": [
    {
     "data": {
      "text/plain": [
       "32    41100.0\n",
       "51    33000.0\n",
       "48    25500.0\n",
       "45    51000.0\n",
       "12    34500.0\n",
       "42    34700.0\n",
       "17    21000.0\n",
       "30    33500.0\n",
       "0     31500.0\n",
       "53    20100.0\n",
       "9     31000.0\n",
       "24    50000.0\n",
       "34    52200.0\n",
       "26    48000.0\n",
       "13    40050.0\n",
       "39    31500.0\n",
       "37    24000.0\n",
       "10    34500.0\n",
       "Name: rent, dtype: float64"
      ]
     },
     "execution_count": 159,
     "metadata": {},
     "output_type": "execute_result"
    }
   ],
   "source": [
    "y_test"
   ]
  },
  {
   "cell_type": "code",
   "execution_count": 160,
   "id": "60ed7767",
   "metadata": {
    "ExecuteTime": {
     "end_time": "2023-07-30T15:02:21.074756Z",
     "start_time": "2023-07-30T15:02:21.053812Z"
    }
   },
   "outputs": [
    {
     "data": {
      "text/html": [
       "<div>\n",
       "<style scoped>\n",
       "    .dataframe tbody tr th:only-of-type {\n",
       "        vertical-align: middle;\n",
       "    }\n",
       "\n",
       "    .dataframe tbody tr th {\n",
       "        vertical-align: top;\n",
       "    }\n",
       "\n",
       "    .dataframe thead th {\n",
       "        text-align: right;\n",
       "    }\n",
       "</style>\n",
       "<table border=\"1\" class=\"dataframe\">\n",
       "  <thead>\n",
       "    <tr style=\"text-align: right;\">\n",
       "      <th></th>\n",
       "      <th>area</th>\n",
       "    </tr>\n",
       "  </thead>\n",
       "  <tbody>\n",
       "    <tr>\n",
       "      <th>32</th>\n",
       "      <td>2500.0</td>\n",
       "    </tr>\n",
       "    <tr>\n",
       "      <th>51</th>\n",
       "      <td>2100.0</td>\n",
       "    </tr>\n",
       "    <tr>\n",
       "      <th>48</th>\n",
       "      <td>1800.0</td>\n",
       "    </tr>\n",
       "    <tr>\n",
       "      <th>45</th>\n",
       "      <td>3100.0</td>\n",
       "    </tr>\n",
       "    <tr>\n",
       "      <th>12</th>\n",
       "      <td>2100.0</td>\n",
       "    </tr>\n",
       "    <tr>\n",
       "      <th>42</th>\n",
       "      <td>2100.0</td>\n",
       "    </tr>\n",
       "    <tr>\n",
       "      <th>17</th>\n",
       "      <td>1550.0</td>\n",
       "    </tr>\n",
       "    <tr>\n",
       "      <th>30</th>\n",
       "      <td>2100.0</td>\n",
       "    </tr>\n",
       "    <tr>\n",
       "      <th>0</th>\n",
       "      <td>2000.0</td>\n",
       "    </tr>\n",
       "    <tr>\n",
       "      <th>53</th>\n",
       "      <td>1200.0</td>\n",
       "    </tr>\n",
       "    <tr>\n",
       "      <th>9</th>\n",
       "      <td>2100.0</td>\n",
       "    </tr>\n",
       "    <tr>\n",
       "      <th>24</th>\n",
       "      <td>2800.0</td>\n",
       "    </tr>\n",
       "    <tr>\n",
       "      <th>34</th>\n",
       "      <td>3000.0</td>\n",
       "    </tr>\n",
       "    <tr>\n",
       "      <th>26</th>\n",
       "      <td>2750.0</td>\n",
       "    </tr>\n",
       "    <tr>\n",
       "      <th>13</th>\n",
       "      <td>2510.0</td>\n",
       "    </tr>\n",
       "    <tr>\n",
       "      <th>39</th>\n",
       "      <td>2100.0</td>\n",
       "    </tr>\n",
       "    <tr>\n",
       "      <th>37</th>\n",
       "      <td>1850.0</td>\n",
       "    </tr>\n",
       "    <tr>\n",
       "      <th>10</th>\n",
       "      <td>2150.0</td>\n",
       "    </tr>\n",
       "  </tbody>\n",
       "</table>\n",
       "</div>"
      ],
      "text/plain": [
       "      area\n",
       "32  2500.0\n",
       "51  2100.0\n",
       "48  1800.0\n",
       "45  3100.0\n",
       "12  2100.0\n",
       "42  2100.0\n",
       "17  1550.0\n",
       "30  2100.0\n",
       "0   2000.0\n",
       "53  1200.0\n",
       "9   2100.0\n",
       "24  2800.0\n",
       "34  3000.0\n",
       "26  2750.0\n",
       "13  2510.0\n",
       "39  2100.0\n",
       "37  1850.0\n",
       "10  2150.0"
      ]
     },
     "execution_count": 160,
     "metadata": {},
     "output_type": "execute_result"
    }
   ],
   "source": [
    "x_test"
   ]
  },
  {
   "cell_type": "code",
   "execution_count": 161,
   "id": "358b0339",
   "metadata": {
    "ExecuteTime": {
     "end_time": "2023-07-30T15:02:21.641714Z",
     "start_time": "2023-07-30T15:02:21.605145Z"
    }
   },
   "outputs": [
    {
     "data": {
      "text/html": [
       "<div>\n",
       "<style scoped>\n",
       "    .dataframe tbody tr th:only-of-type {\n",
       "        vertical-align: middle;\n",
       "    }\n",
       "\n",
       "    .dataframe tbody tr th {\n",
       "        vertical-align: top;\n",
       "    }\n",
       "\n",
       "    .dataframe thead th {\n",
       "        text-align: right;\n",
       "    }\n",
       "</style>\n",
       "<table border=\"1\" class=\"dataframe\">\n",
       "  <thead>\n",
       "    <tr style=\"text-align: right;\">\n",
       "      <th></th>\n",
       "      <th>area</th>\n",
       "    </tr>\n",
       "  </thead>\n",
       "  <tbody>\n",
       "    <tr>\n",
       "      <th>16</th>\n",
       "      <td>1800.0</td>\n",
       "    </tr>\n",
       "    <tr>\n",
       "      <th>25</th>\n",
       "      <td>3100.0</td>\n",
       "    </tr>\n",
       "    <tr>\n",
       "      <th>57</th>\n",
       "      <td>1800.0</td>\n",
       "    </tr>\n",
       "    <tr>\n",
       "      <th>11</th>\n",
       "      <td>2100.0</td>\n",
       "    </tr>\n",
       "    <tr>\n",
       "      <th>28</th>\n",
       "      <td>2200.0</td>\n",
       "    </tr>\n",
       "    <tr>\n",
       "      <th>56</th>\n",
       "      <td>2750.0</td>\n",
       "    </tr>\n",
       "    <tr>\n",
       "      <th>21</th>\n",
       "      <td>2100.0</td>\n",
       "    </tr>\n",
       "    <tr>\n",
       "      <th>36</th>\n",
       "      <td>1500.0</td>\n",
       "    </tr>\n",
       "    <tr>\n",
       "      <th>14</th>\n",
       "      <td>2250.0</td>\n",
       "    </tr>\n",
       "    <tr>\n",
       "      <th>5</th>\n",
       "      <td>1900.0</td>\n",
       "    </tr>\n",
       "    <tr>\n",
       "      <th>33</th>\n",
       "      <td>2250.0</td>\n",
       "    </tr>\n",
       "    <tr>\n",
       "      <th>43</th>\n",
       "      <td>2510.0</td>\n",
       "    </tr>\n",
       "    <tr>\n",
       "      <th>46</th>\n",
       "      <td>1800.0</td>\n",
       "    </tr>\n",
       "    <tr>\n",
       "      <th>4</th>\n",
       "      <td>3000.0</td>\n",
       "    </tr>\n",
       "    <tr>\n",
       "      <th>1</th>\n",
       "      <td>2100.0</td>\n",
       "    </tr>\n",
       "    <tr>\n",
       "      <th>18</th>\n",
       "      <td>1800.0</td>\n",
       "    </tr>\n",
       "    <tr>\n",
       "      <th>49</th>\n",
       "      <td>2700.0</td>\n",
       "    </tr>\n",
       "    <tr>\n",
       "      <th>19</th>\n",
       "      <td>2700.0</td>\n",
       "    </tr>\n",
       "    <tr>\n",
       "      <th>22</th>\n",
       "      <td>3500.0</td>\n",
       "    </tr>\n",
       "    <tr>\n",
       "      <th>40</th>\n",
       "      <td>2150.0</td>\n",
       "    </tr>\n",
       "    <tr>\n",
       "      <th>20</th>\n",
       "      <td>2110.0</td>\n",
       "    </tr>\n",
       "    <tr>\n",
       "      <th>38</th>\n",
       "      <td>2700.0</td>\n",
       "    </tr>\n",
       "    <tr>\n",
       "      <th>58</th>\n",
       "      <td>2200.0</td>\n",
       "    </tr>\n",
       "    <tr>\n",
       "      <th>7</th>\n",
       "      <td>1850.0</td>\n",
       "    </tr>\n",
       "    <tr>\n",
       "      <th>23</th>\n",
       "      <td>1200.0</td>\n",
       "    </tr>\n",
       "    <tr>\n",
       "      <th>47</th>\n",
       "      <td>1550.0</td>\n",
       "    </tr>\n",
       "    <tr>\n",
       "      <th>41</th>\n",
       "      <td>2100.0</td>\n",
       "    </tr>\n",
       "    <tr>\n",
       "      <th>29</th>\n",
       "      <td>3100.0</td>\n",
       "    </tr>\n",
       "    <tr>\n",
       "      <th>6</th>\n",
       "      <td>1500.0</td>\n",
       "    </tr>\n",
       "    <tr>\n",
       "      <th>8</th>\n",
       "      <td>2700.0</td>\n",
       "    </tr>\n",
       "    <tr>\n",
       "      <th>50</th>\n",
       "      <td>2110.0</td>\n",
       "    </tr>\n",
       "    <tr>\n",
       "      <th>55</th>\n",
       "      <td>3100.0</td>\n",
       "    </tr>\n",
       "    <tr>\n",
       "      <th>2</th>\n",
       "      <td>2500.0</td>\n",
       "    </tr>\n",
       "    <tr>\n",
       "      <th>15</th>\n",
       "      <td>3100.0</td>\n",
       "    </tr>\n",
       "    <tr>\n",
       "      <th>35</th>\n",
       "      <td>1900.0</td>\n",
       "    </tr>\n",
       "    <tr>\n",
       "      <th>31</th>\n",
       "      <td>2100.0</td>\n",
       "    </tr>\n",
       "    <tr>\n",
       "      <th>27</th>\n",
       "      <td>1800.0</td>\n",
       "    </tr>\n",
       "    <tr>\n",
       "      <th>44</th>\n",
       "      <td>2250.0</td>\n",
       "    </tr>\n",
       "    <tr>\n",
       "      <th>52</th>\n",
       "      <td>3500.0</td>\n",
       "    </tr>\n",
       "    <tr>\n",
       "      <th>3</th>\n",
       "      <td>2250.0</td>\n",
       "    </tr>\n",
       "    <tr>\n",
       "      <th>54</th>\n",
       "      <td>2800.0</td>\n",
       "    </tr>\n",
       "    <tr>\n",
       "      <th>59</th>\n",
       "      <td>3100.0</td>\n",
       "    </tr>\n",
       "  </tbody>\n",
       "</table>\n",
       "</div>"
      ],
      "text/plain": [
       "      area\n",
       "16  1800.0\n",
       "25  3100.0\n",
       "57  1800.0\n",
       "11  2100.0\n",
       "28  2200.0\n",
       "56  2750.0\n",
       "21  2100.0\n",
       "36  1500.0\n",
       "14  2250.0\n",
       "5   1900.0\n",
       "33  2250.0\n",
       "43  2510.0\n",
       "46  1800.0\n",
       "4   3000.0\n",
       "1   2100.0\n",
       "18  1800.0\n",
       "49  2700.0\n",
       "19  2700.0\n",
       "22  3500.0\n",
       "40  2150.0\n",
       "20  2110.0\n",
       "38  2700.0\n",
       "58  2200.0\n",
       "7   1850.0\n",
       "23  1200.0\n",
       "47  1550.0\n",
       "41  2100.0\n",
       "29  3100.0\n",
       "6   1500.0\n",
       "8   2700.0\n",
       "50  2110.0\n",
       "55  3100.0\n",
       "2   2500.0\n",
       "15  3100.0\n",
       "35  1900.0\n",
       "31  2100.0\n",
       "27  1800.0\n",
       "44  2250.0\n",
       "52  3500.0\n",
       "3   2250.0\n",
       "54  2800.0\n",
       "59  3100.0"
      ]
     },
     "execution_count": 161,
     "metadata": {},
     "output_type": "execute_result"
    }
   ],
   "source": [
    "x_train"
   ]
  },
  {
   "cell_type": "code",
   "execution_count": 162,
   "id": "dc64e966",
   "metadata": {
    "ExecuteTime": {
     "end_time": "2023-07-30T15:02:22.160964Z",
     "start_time": "2023-07-30T15:02:22.136031Z"
    }
   },
   "outputs": [
    {
     "data": {
      "text/plain": [
       "16    30500.0\n",
       "25    53000.0\n",
       "57    25100.0\n",
       "11    32000.0\n",
       "28    31460.0\n",
       "56    48500.0\n",
       "21    33500.0\n",
       "36    20200.0\n",
       "14    34100.0\n",
       "5     32500.0\n",
       "33    35100.0\n",
       "43    40000.0\n",
       "46    30000.0\n",
       "4     52100.0\n",
       "1     35000.0\n",
       "18    25000.0\n",
       "49    47500.0\n",
       "19    47000.0\n",
       "22    70000.0\n",
       "40    34400.0\n",
       "20    31500.0\n",
       "38    47500.0\n",
       "58    31560.0\n",
       "7     24500.0\n",
       "23    20000.0\n",
       "47    21500.0\n",
       "41    32020.0\n",
       "29    51400.0\n",
       "6     20000.0\n",
       "8     48000.0\n",
       "50    31000.0\n",
       "55    54000.0\n",
       "2     41050.0\n",
       "15    51500.0\n",
       "35    32300.0\n",
       "31    35010.0\n",
       "27    25000.0\n",
       "44    35000.0\n",
       "52    70500.0\n",
       "3     36100.0\n",
       "54    51000.0\n",
       "59    51600.0\n",
       "Name: rent, dtype: float64"
      ]
     },
     "execution_count": 162,
     "metadata": {},
     "output_type": "execute_result"
    }
   ],
   "source": [
    "y_train"
   ]
  },
  {
   "cell_type": "markdown",
   "id": "50f89e17",
   "metadata": {},
   "source": [
    "# Checking errors"
   ]
  },
  {
   "cell_type": "code",
   "execution_count": 163,
   "id": "15722f82",
   "metadata": {
    "ExecuteTime": {
     "end_time": "2023-07-30T15:02:23.161882Z",
     "start_time": "2023-07-30T15:02:23.148276Z"
    }
   },
   "outputs": [
    {
     "data": {
      "text/plain": [
       "1624.391748617783"
      ]
     },
     "execution_count": 163,
     "metadata": {},
     "output_type": "execute_result"
    }
   ],
   "source": [
    "mean_error = mean_absolute_error(y_test,predictions)\n",
    "mean_error"
   ]
  },
  {
   "cell_type": "code",
   "execution_count": 164,
   "id": "d458bee7",
   "metadata": {
    "ExecuteTime": {
     "end_time": "2023-07-30T15:02:23.675414Z",
     "start_time": "2023-07-30T15:02:23.661442Z"
    }
   },
   "outputs": [
    {
     "data": {
      "text/plain": [
       "5197705.032904955"
      ]
     },
     "execution_count": 164,
     "metadata": {},
     "output_type": "execute_result"
    }
   ],
   "source": [
    "mean_sq_error=mean_squared_error(y_test,predictions)\n",
    "mean_sq_error"
   ]
  },
  {
   "cell_type": "markdown",
   "id": "cf14035f",
   "metadata": {},
   "source": [
    "# performance of our model "
   ]
  },
  {
   "cell_type": "code",
   "execution_count": 165,
   "id": "8a037009",
   "metadata": {
    "ExecuteTime": {
     "end_time": "2023-07-30T15:02:24.712728Z",
     "start_time": "2023-07-30T15:02:24.689811Z"
    }
   },
   "outputs": [
    {
     "data": {
      "text/plain": [
       "0.9443868494608832"
      ]
     },
     "execution_count": 165,
     "metadata": {},
     "output_type": "execute_result"
    }
   ],
   "source": [
    "model.score(x_test,y_test)"
   ]
  },
  {
   "cell_type": "code",
   "execution_count": 166,
   "id": "0c8a21b8",
   "metadata": {
    "ExecuteTime": {
     "end_time": "2023-07-30T15:02:25.388121Z",
     "start_time": "2023-07-30T15:02:25.372632Z"
    }
   },
   "outputs": [
    {
     "data": {
      "text/plain": [
       "0.9504928685423878"
      ]
     },
     "execution_count": 166,
     "metadata": {},
     "output_type": "execute_result"
    }
   ],
   "source": [
    "model.score(x_train,y_train)"
   ]
  },
  {
   "cell_type": "markdown",
   "id": "be724ea7",
   "metadata": {},
   "source": [
    "So that the train accuracy is greater than the test accuracy"
   ]
  },
  {
   "cell_type": "markdown",
   "id": "806ed800",
   "metadata": {},
   "source": [
    "# Random data checking"
   ]
  },
  {
   "cell_type": "code",
   "execution_count": 167,
   "id": "e1787d16",
   "metadata": {
    "ExecuteTime": {
     "end_time": "2023-07-30T15:02:28.754178Z",
     "start_time": "2023-07-30T15:02:28.732251Z"
    }
   },
   "outputs": [],
   "source": [
    "rand_x = data.iloc[np.random.randint(0,data.shape[0])]\n",
    "rand_y = rand_x[\"rent\"]\n",
    "rand_x = rand_x.drop([\"rent\"])"
   ]
  },
  {
   "cell_type": "code",
   "execution_count": 168,
   "id": "412e655d",
   "metadata": {
    "ExecuteTime": {
     "end_time": "2023-07-30T15:02:29.207997Z",
     "start_time": "2023-07-30T15:02:29.192910Z"
    }
   },
   "outputs": [
    {
     "name": "stdout",
     "output_type": "stream",
     "text": [
      "The Actual value of rent is :51000.0\n",
      "The predicted value of rent by our model is :[54981.60173172]\n"
     ]
    }
   ],
   "source": [
    "print(f'The Actual value of rent is :{rand_y}')\n",
    "print(f'The predicted value of rent by our model is :{model.predict([rand_x])}')"
   ]
  },
  {
   "cell_type": "markdown",
   "id": "a73aec82",
   "metadata": {},
   "source": [
    "# Difference between Actual and Predicted"
   ]
  },
  {
   "cell_type": "code",
   "execution_count": 169,
   "id": "7b01a3dc",
   "metadata": {
    "ExecuteTime": {
     "end_time": "2023-07-30T15:02:30.478845Z",
     "start_time": "2023-07-30T15:02:30.104688Z"
    }
   },
   "outputs": [
    {
     "data": {
      "text/plain": [
       "<AxesSubplot:title={'center':'Scatterplot showing actual values and LinePlots showing predicted values'}, xlabel='Area', ylabel='Rent'>"
      ]
     },
     "execution_count": 169,
     "metadata": {},
     "output_type": "execute_result"
    },
    {
     "data": {
      "image/png": "[encoded data removed]",
      "text/plain": [
       "<Figure size 432x288 with 1 Axes>"
      ]
     },
     "metadata": {
      "needs_background": "light"
     },
     "output_type": "display_data"
    }
   ],
   "source": [
    "xtest = np.array(x_test)\n",
    "xtest = xtest.reshape(18,)\n",
    "plt.title(\"Scatterplot showing actual values and LinePlots showing predicted values\")\n",
    "plt.xlabel(\"Area\")\n",
    "plt.ylabel(\"Rent\")\n",
    "sns.scatterplot(x=xtest,y=y_test,color=\"r\")\n",
    "sns.lineplot(x=xtest,y=predictions)\n",
    "sns.lineplot(x=xtest,y=y_test,color=\"g\")"
   ]
  },
  {
   "cell_type": "code",
   "execution_count": 170,
   "id": "1b18ad11",
   "metadata": {
    "ExecuteTime": {
     "end_time": "2023-07-30T15:02:31.228615Z",
     "start_time": "2023-07-30T15:02:30.718893Z"
    }
   },
   "outputs": [
    {
     "data": {
      "image/png": "[encoded data removed]",
      "text/plain": [
       "<Figure size 720x360 with 2 Axes>"
      ]
     },
     "metadata": {
      "needs_background": "light"
     },
     "output_type": "display_data"
    }
   ],
   "source": [
    "fig, axes = plt.subplots(nrows=1, ncols=2, figsize=(10, 5))\n",
    "sttrplot=plt.scatter(x=xtest, y=y_test)\n",
    "# Plot a barplot on each subplot\n",
    "sns.lineplot(x=xtest, y=y_test, ax=axes[0],label='Actual')\n",
    "sns.lineplot(x=xtest, y=predictions, ax=axes[1], label=\"Predicted\",color='r')\n",
    "\n",
    "# Show the plot\n",
    "plt.show()"
   ]
  },
  {
   "cell_type": "code",
   "execution_count": 171,
   "id": "731d719d",
   "metadata": {
    "ExecuteTime": {
     "end_time": "2023-07-30T15:02:31.417387Z",
     "start_time": "2023-07-30T15:02:31.389475Z"
    }
   },
   "outputs": [
    {
     "data": {
      "text/html": [
       "<div>\n",
       "<style scoped>\n",
       "    .dataframe tbody tr th:only-of-type {\n",
       "        vertical-align: middle;\n",
       "    }\n",
       "\n",
       "    .dataframe tbody tr th {\n",
       "        vertical-align: top;\n",
       "    }\n",
       "\n",
       "    .dataframe thead th {\n",
       "        text-align: right;\n",
       "    }\n",
       "</style>\n",
       "<table border=\"1\" class=\"dataframe\">\n",
       "  <thead>\n",
       "    <tr style=\"text-align: right;\">\n",
       "      <th></th>\n",
       "      <th>Actual</th>\n",
       "      <th>predicted</th>\n",
       "    </tr>\n",
       "  </thead>\n",
       "  <tbody>\n",
       "    <tr>\n",
       "      <th>0</th>\n",
       "      <td>31500.0</td>\n",
       "      <td>31068.225545</td>\n",
       "    </tr>\n",
       "    <tr>\n",
       "      <th>9</th>\n",
       "      <td>31000.0</td>\n",
       "      <td>33242.168835</td>\n",
       "    </tr>\n",
       "    <tr>\n",
       "      <th>10</th>\n",
       "      <td>34500.0</td>\n",
       "      <td>34329.140480</td>\n",
       "    </tr>\n",
       "    <tr>\n",
       "      <th>12</th>\n",
       "      <td>34500.0</td>\n",
       "      <td>33242.168835</td>\n",
       "    </tr>\n",
       "    <tr>\n",
       "      <th>13</th>\n",
       "      <td>40050.0</td>\n",
       "      <td>42155.336323</td>\n",
       "    </tr>\n",
       "    <tr>\n",
       "      <th>17</th>\n",
       "      <td>21000.0</td>\n",
       "      <td>21285.480742</td>\n",
       "    </tr>\n",
       "    <tr>\n",
       "      <th>24</th>\n",
       "      <td>50000.0</td>\n",
       "      <td>48459.771863</td>\n",
       "    </tr>\n",
       "    <tr>\n",
       "      <th>26</th>\n",
       "      <td>48000.0</td>\n",
       "      <td>47372.800218</td>\n",
       "    </tr>\n",
       "    <tr>\n",
       "      <th>30</th>\n",
       "      <td>33500.0</td>\n",
       "      <td>33242.168835</td>\n",
       "    </tr>\n",
       "    <tr>\n",
       "      <th>32</th>\n",
       "      <td>41100.0</td>\n",
       "      <td>41937.941994</td>\n",
       "    </tr>\n",
       "    <tr>\n",
       "      <th>34</th>\n",
       "      <td>52200.0</td>\n",
       "      <td>52807.658442</td>\n",
       "    </tr>\n",
       "    <tr>\n",
       "      <th>37</th>\n",
       "      <td>24000.0</td>\n",
       "      <td>27807.310611</td>\n",
       "    </tr>\n",
       "    <tr>\n",
       "      <th>39</th>\n",
       "      <td>31500.0</td>\n",
       "      <td>33242.168835</td>\n",
       "    </tr>\n",
       "    <tr>\n",
       "      <th>42</th>\n",
       "      <td>34700.0</td>\n",
       "      <td>33242.168835</td>\n",
       "    </tr>\n",
       "    <tr>\n",
       "      <th>45</th>\n",
       "      <td>51000.0</td>\n",
       "      <td>54981.601732</td>\n",
       "    </tr>\n",
       "    <tr>\n",
       "      <th>48</th>\n",
       "      <td>25500.0</td>\n",
       "      <td>26720.338966</td>\n",
       "    </tr>\n",
       "    <tr>\n",
       "      <th>51</th>\n",
       "      <td>33000.0</td>\n",
       "      <td>33242.168835</td>\n",
       "    </tr>\n",
       "    <tr>\n",
       "      <th>53</th>\n",
       "      <td>20100.0</td>\n",
       "      <td>13676.679228</td>\n",
       "    </tr>\n",
       "  </tbody>\n",
       "</table>\n",
       "</div>"
      ],
      "text/plain": [
       "     Actual     predicted\n",
       "0   31500.0  31068.225545\n",
       "9   31000.0  33242.168835\n",
       "10  34500.0  34329.140480\n",
       "12  34500.0  33242.168835\n",
       "13  40050.0  42155.336323\n",
       "17  21000.0  21285.480742\n",
       "24  50000.0  48459.771863\n",
       "26  48000.0  47372.800218\n",
       "30  33500.0  33242.168835\n",
       "32  41100.0  41937.941994\n",
       "34  52200.0  52807.658442\n",
       "37  24000.0  27807.310611\n",
       "39  31500.0  33242.168835\n",
       "42  34700.0  33242.168835\n",
       "45  51000.0  54981.601732\n",
       "48  25500.0  26720.338966\n",
       "51  33000.0  33242.168835\n",
       "53  20100.0  13676.679228"
      ]
     },
     "execution_count": 171,
     "metadata": {},
     "output_type": "execute_result"
    }
   ],
   "source": [
    "data1 = pd.DataFrame({\"Actual\": y_test,\"predicted\":predictions}).sort_index(ascending=True)\n",
    "data1"
   ]
  },
  {
   "cell_type": "code",
   "execution_count": 172,
   "id": "aaff3c0b",
   "metadata": {
    "ExecuteTime": {
     "end_time": "2023-07-30T15:02:31.967180Z",
     "start_time": "2023-07-30T15:02:31.951174Z"
    }
   },
   "outputs": [],
   "source": [
    "graph = data1.head(20)"
   ]
  },
  {
   "cell_type": "code",
   "execution_count": 173,
   "id": "eed44bda",
   "metadata": {
    "ExecuteTime": {
     "end_time": "2023-07-30T15:02:33.132326Z",
     "start_time": "2023-07-30T15:02:32.580077Z"
    }
   },
   "outputs": [
    {
     "data": {
      "text/plain": [
       "<matplotlib.legend.Legend at 0x19444282ca0>"
      ]
     },
     "execution_count": 173,
     "metadata": {},
     "output_type": "execute_result"
    },
    {
     "data": {
      "image/png": "[encoded data removed]",
      "text/plain": [
       "<Figure size 432x288 with 1 Axes>"
      ]
     },
     "metadata": {
      "needs_background": "light"
     },
     "output_type": "display_data"
    }
   ],
   "source": [
    "graph.plot(kind=\"bar\")\n",
    "plt.legend(bbox_to_anchor=(1.05,1))"
   ]
  },
  {
   "cell_type": "code",
   "execution_count": 174,
   "id": "f40268bf",
   "metadata": {
    "ExecuteTime": {
     "end_time": "2023-07-30T15:02:34.391957Z",
     "start_time": "2023-07-30T15:02:33.190550Z"
    }
   },
   "outputs": [
    {
     "data": {
      "text/plain": [
       "<seaborn.axisgrid.PairGrid at 0x194449e9e80>"
      ]
     },
     "execution_count": 174,
     "metadata": {},
     "output_type": "execute_result"
    },
    {
     "data": {
      "image/png": "[encoded data removed]",
      "text/plain": [
       "<Figure size 360x360 with 6 Axes>"
      ]
     },
     "metadata": {
      "needs_background": "light"
     },
     "output_type": "display_data"
    }
   ],
   "source": [
    "sns.pairplot(data1)"
   ]
  },
  {
   "cell_type": "code",
   "execution_count": 175,
   "id": "f17f05ca",
   "metadata": {
    "ExecuteTime": {
     "end_time": "2023-07-30T15:02:36.115695Z",
     "start_time": "2023-07-30T15:02:34.789399Z"
    }
   },
   "outputs": [
    {
     "data": {
      "text/plain": [
       "<seaborn.axisgrid.PairGrid at 0x1944492ee80>"
      ]
     },
     "execution_count": 175,
     "metadata": {},
     "output_type": "execute_result"
    },
    {
     "data": {
      "image/png": "[encoded data removed]",
      "text/plain": [
       "<Figure size 360x360 with 6 Axes>"
      ]
     },
     "metadata": {
      "needs_background": "light"
     },
     "output_type": "display_data"
    }
   ],
   "source": [
    "sns.pairplot(data)"
   ]
  }
 ],
 "metadata": {
  "kernelspec": {
   "display_name": "Python 3 (ipykernel)",
   "language": "python",
   "name": "python3"
  },
  "language_info": {
   "codemirror_mode": {
    "name": "ipython",
    "version": 3
   },
   "file_extension": ".py",
   "mimetype": "text/x-python",
   "name": "python",
   "nbconvert_exporter": "python",
   "pygments_lexer": "ipython3",
   "version": "3.9.7"
  }
 },
 "nbformat": 4,
 "nbformat_minor": 5
}
